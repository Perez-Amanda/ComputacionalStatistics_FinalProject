{
 "cells": [
  {
   "cell_type": "code",
   "execution_count": 1,
   "id": "bf4503b2-9cb5-47ab-ba2b-c3475953032d",
   "metadata": {},
   "outputs": [],
   "source": [
    "# Import libraries\n",
    "import numpy as np\n",
    "import matplotlib.pyplot as plt\n",
    "import torch\n",
    "from torch import nn\n",
    "from torch import distributions\n",
    "from torch.nn.parameter import Parameter\n",
    "from flows import *"
   ]
  },
  {
   "cell_type": "markdown",
   "id": "16d770ea-c530-4886-bc6a-4639b625f9ce",
   "metadata": {},
   "source": [
    "## Importing data"
   ]
  },
  {
   "cell_type": "code",
   "execution_count": 154,
   "id": "9a72e19e-e0d7-4067-92c1-80ab66751bde",
   "metadata": {},
   "outputs": [],
   "source": [
    "# Reading data\n",
    "with open(\"../data/gaussian_ssm_data1.txt\", \"r\") as f:\n",
    "    lines = f.readlines()\n",
    "    y = [float(i) for i in lines[1].split(',')[1:]]\n",
    "    x = [float(i) for i in lines[0].split(',')[1:]]\n",
    "\n",
    "y = torch.tensor([y])[:,-3:]  # only the last values"
   ]
  },
  {
   "cell_type": "code",
   "execution_count": 155,
   "id": "e19bafa2-26f5-40e5-86cf-4eb1af042e54",
   "metadata": {},
   "outputs": [
    {
     "data": {
      "text/plain": [
       "tensor([[-2.3522, -1.6513,  1.1819]])"
      ]
     },
     "execution_count": 155,
     "metadata": {},
     "output_type": "execute_result"
    }
   ],
   "source": [
    "y"
   ]
  },
  {
   "cell_type": "code",
   "execution_count": 98,
   "id": "8a6d3ecb-8efb-41b7-9414-8c1b7424058c",
   "metadata": {},
   "outputs": [],
   "source": [
    "def create_flow(y,n_layers=5):\n",
    "    dim = y.size(1)\n",
    "    normal = distributions.MultivariateNormal(\n",
    "        torch.zeros(dim), \n",
    "        torch.eye(dim)\n",
    "    )\n",
    "    flow = RealNVP(dim, n_layers, normal)\n",
    "    return flow"
   ]
  },
  {
   "cell_type": "code",
   "execution_count": 99,
   "id": "01d51857-0825-4619-9435-15250e25d417",
   "metadata": {},
   "outputs": [],
   "source": [
    "def log_mu(x):\n",
    "    log_prob = distributions.Normal(0,1).log_prob(x)\n",
    "    return log_prob\n",
    "\n",
    "def log_f(x,x_):\n",
    "    log_prob = distributions.Normal(0.95*x_, 1).log_prob(x)\n",
    "    return log_prob\n",
    "\n",
    "def log_g(y,x):\n",
    "    log_prob = distributions.Normal(x,1).log_prob(y)\n",
    "    return log_prob\n",
    "\n",
    "def log_p(x, y):\n",
    "    Y = torch.tensor(x.size(0) * list(y[0])).reshape(x.size())\n",
    "    log_prob = log_mu(x[:,0])\n",
    "    log_prob += sum([log_f(x[:,i],x[:,i-1]) for i in range(1,Y.size(1))]) \n",
    "    log_prob += sum([log_g(Y[:,i],x[:,i]) for i in range(Y.size(1))])\n",
    "    return log_prob\n",
    "\n",
    "def loss(flow, y, S=100):\n",
    "    dim = y.size(0)\n",
    "    u = distributions.MultivariateNormal(torch.zeros(dim),torch.eye(dim)).sample((S,))\n",
    "    x, log_det_J = flow.forward(u)\n",
    "    # log_prob = log_p(x,y)\n",
    "    return - log_p(x,y).mean(axis=0) - log_det_J.mean()"
   ]
  },
  {
   "cell_type": "code",
   "execution_count": null,
   "id": "a768e262-1c3a-41f2-9367-2042d518aceb",
   "metadata": {},
   "outputs": [],
   "source": []
  },
  {
   "cell_type": "code",
   "execution_count": 124,
   "id": "8bb1b0cf-7e86-416a-b5a5-d012cae16373",
   "metadata": {},
   "outputs": [],
   "source": [
    "def batch(size, data):\n",
    "    '''\n",
    "    Select a batch of the data.\n",
    "    '''\n",
    "    N = data.shape[0]\n",
    "    rand = np.random.permutation(N)\n",
    "    selected_lines = rand[-size:]\n",
    "    return data[selected_lines]\n",
    "    \n",
    "def opt_flow(flow, data, lr=1e-4, nIter=500, S=100, verbose=True):\n",
    "    '''\n",
    "    Optimize the flow to sample from the distribution\n",
    "    that originated the data.\n",
    "    Returns the flow with optimized parameters.\n",
    "    '''\n",
    "    optimizer = torch.optim.Adam(\n",
    "        [p for p in flow.parameters() if p.requires_grad == True], \n",
    "        lr=lr\n",
    "    )\n",
    "    history = []\n",
    "    for t in range(nIter+1):    \n",
    "        cur_batch = batch(100, data.numpy()).astype(np.float32)\n",
    "        \n",
    "        loss_ = loss(flow, torch.from_numpy(cur_batch),S) #-flow.log_prob(torch.from_numpy(cur_batch)).mean()\n",
    "        history.append(loss_.detach())\n",
    "\n",
    "        optimizer.zero_grad()\n",
    "        loss_.backward(retain_graph=True)\n",
    "        optimizer.step()\n",
    "\n",
    "        if t % 50 == 0 and verbose:\n",
    "            print('iter %s:' % t, 'loss = %.3f' % loss_)\n",
    "    return flow, history"
   ]
  },
  {
   "cell_type": "code",
   "execution_count": 156,
   "id": "b269a985-8da0-43d4-b7c1-68d9f2609ec8",
   "metadata": {},
   "outputs": [
    {
     "name": "stdout",
     "output_type": "stream",
     "text": [
      "iter 0: loss = 12.452\n",
      "iter 50: loss = 10.055\n",
      "iter 100: loss = 8.754\n",
      "iter 150: loss = 7.931\n",
      "iter 200: loss = 7.064\n",
      "iter 250: loss = 6.135\n",
      "iter 300: loss = 5.303\n",
      "iter 350: loss = 4.758\n",
      "iter 400: loss = 4.443\n",
      "iter 450: loss = 4.166\n",
      "iter 500: loss = 3.998\n",
      "iter 550: loss = 3.823\n",
      "iter 600: loss = 3.672\n",
      "iter 650: loss = 3.447\n",
      "iter 700: loss = 3.459\n",
      "iter 750: loss = 3.416\n",
      "iter 800: loss = 3.215\n",
      "iter 850: loss = 3.227\n",
      "iter 900: loss = 3.235\n",
      "iter 950: loss = 2.961\n",
      "iter 1000: loss = 2.932\n"
     ]
    }
   ],
   "source": [
    "flow = create_flow(y, n_layers=2)\n",
    "flow, history = opt_flow(flow, y, lr=1e-4, nIter=1000, S=500)"
   ]
  },
  {
   "cell_type": "code",
   "execution_count": 157,
   "id": "efcfaf24-67cb-4f3e-9383-af8a2a521ff3",
   "metadata": {},
   "outputs": [
    {
     "data": {
      "text/plain": [
       "[<matplotlib.lines.Line2D at 0x70d62f6e7f70>]"
      ]
     },
     "execution_count": 157,
     "metadata": {},
     "output_type": "execute_result"
    },
    {
     "data": {
      "image/png": "[encoded data removed]",
      "text/plain": [
       "<Figure size 640x480 with 1 Axes>"
      ]
     },
     "metadata": {},
     "output_type": "display_data"
    }
   ],
   "source": [
    "plt.plot(history)"
   ]
  },
  {
   "cell_type": "code",
   "execution_count": 177,
   "id": "674e77e1-b8bc-41da-8378-df825760d8b3",
   "metadata": {},
   "outputs": [
    {
     "data": {
      "text/plain": [
       "tensor([9.2186e-05], grad_fn=<ExpBackward0>)"
      ]
     },
     "execution_count": 177,
     "metadata": {},
     "output_type": "execute_result"
    }
   ],
   "source": [
    "q = flow.log_prob(y)\n",
    "# y.size()\n",
    "q.exp()"
   ]
  },
  {
   "cell_type": "code",
   "execution_count": 163,
   "id": "aa6b8775-c6ca-4c55-b0f3-0f31772498a6",
   "metadata": {},
   "outputs": [
    {
     "name": "stderr",
     "output_type": "stream",
     "text": [
      "/home/amanda/Desktop/Estudos/jupyterlab_env/lib/python3.10/site-packages/torch/_tensor.py:893: UserWarning: non-inplace resize is deprecated\n",
      "  warnings.warn(\"non-inplace resize is deprecated\")\n"
     ]
    },
    {
     "data": {
      "text/plain": [
       "(tensor([-1.3082, 19.4404,  0.0757], grad_fn=<MeanBackward1>),\n",
       " tensor([ 6.5432, 51.8961,  5.1957], grad_fn=<StdBackward0>))"
      ]
     },
     "execution_count": 163,
     "metadata": {},
     "output_type": "execute_result"
    }
   ],
   "source": [
    "x_samples = flow.sample(1000)\n",
    "x_hat = x_samples.mean(dim=0)\n",
    "sigma_x = x_samples.std(dim=0)\n",
    "x_hat, sigma_x"
   ]
  },
  {
   "cell_type": "code",
   "execution_count": 164,
   "id": "9e087c6d-78ff-43f1-9a33-77c6703ac25f",
   "metadata": {},
   "outputs": [
    {
     "data": {
      "text/plain": [
       "array([-2.3522077, -1.6512734,  1.1818644], dtype=float32)"
      ]
     },
     "execution_count": 164,
     "metadata": {},
     "output_type": "execute_result"
    }
   ],
   "source": [
    "y[0].numpy()"
   ]
  },
  {
   "cell_type": "code",
   "execution_count": 170,
   "id": "d1ddc5bc-c13e-4ff1-91fb-d538fec9e335",
   "metadata": {},
   "outputs": [
    {
     "data": {
      "text/plain": [
       "<matplotlib.legend.Legend at 0x70d61fe47ee0>"
      ]
     },
     "execution_count": 170,
     "metadata": {},
     "output_type": "execute_result"
    },
    {
     "data": {
      "image/png": "[encoded data removed]",
      "text/plain": [
       "<Figure size 640x480 with 1 Axes>"
      ]
     },
     "metadata": {},
     "output_type": "display_data"
    }
   ],
   "source": [
    "plt.plot(x_hat.detach().numpy(),label=r'$\\hat{x}$')\n",
    "plt.plot(x[98:],label=r'$x$')\n",
    "plt.plot(y[0].numpy(),label=r'$y$')\n",
    "plt.fill_between([0,1,2],(x_hat-sigma_x).detach().numpy(), (x_hat+sigma_x).detach().numpy(),alpha=0.5)\n",
    "plt.legend()"
   ]
  },
  {
   "cell_type": "markdown",
   "id": "3ef82a3d-0c7c-47d8-8b30-6e6f0ed3be3d",
   "metadata": {},
   "source": [
    "$$\n",
    "\\textrm{min} \\ D_{\\textrm{KL}} (q || p)\n",
    "$$"
   ]
  },
  {
   "cell_type": "code",
   "execution_count": 2,
   "id": "a9f5dd1b-3221-431d-a910-62fc26103adc",
   "metadata": {},
   "outputs": [
    {
     "data": {
      "text/plain": [
       "tensor([0.2420])"
      ]
     },
     "execution_count": 2,
     "metadata": {},
     "output_type": "execute_result"
    }
   ],
   "source": [
    "distributions.Normal(0,1).log_prob(torch.tensor([-1])).exp()"
   ]
  },
  {
   "cell_type": "code",
   "execution_count": 4,
   "id": "54f498e7-9d30-47cf-9cf7-86ce087551fe",
   "metadata": {},
   "outputs": [
    {
     "data": {
      "text/plain": [
       "tensor([[ 0.4182,  3.0684, -0.8637],\n",
       "        [-1.0563,  0.2103,  0.5244],\n",
       "        [-2.0437, -0.0140,  1.8706],\n",
       "        [-1.9473, -1.4571, -1.8068],\n",
       "        [ 1.2324, -0.1293,  1.3022],\n",
       "        [-2.3904,  0.6876,  0.7951],\n",
       "        [ 1.7324, -0.6839, -0.7307],\n",
       "        [-1.9729, -0.8839,  0.6290],\n",
       "        [-1.6524,  0.5554, -0.5932],\n",
       "        [ 0.6890,  0.2754,  0.2717]])"
      ]
     },
     "execution_count": 4,
     "metadata": {},
     "output_type": "execute_result"
    }
   ],
   "source": [
    "dim = 3\n",
    "S =10\n",
    "u = distributions.MultivariateNormal(torch.zeros(dim),torch.eye(dim)).sample((S,))\n",
    "u"
   ]
  },
  {
   "cell_type": "code",
   "execution_count": 5,
   "id": "15eb2c46-a726-4bee-96e8-179000ba042a",
   "metadata": {},
   "outputs": [],
   "source": [
    "normal = distributions.MultivariateNormal(\n",
    "    torch.zeros(3), \n",
    "    torch.eye(3)\n",
    ")\n",
    "flow = RealNVP(dim=3, n_layers=5, base_dist=normal)"
   ]
  },
  {
   "cell_type": "code",
   "execution_count": 8,
   "id": "12ee5df3-54a4-4b26-a7f4-dcb581b4c7fc",
   "metadata": {},
   "outputs": [
    {
     "data": {
      "text/plain": [
       "tensor([-0.1044, -0.1086, -0.5232, -0.4004, -0.1474, -0.3640, -0.0846, -0.4007,\n",
       "        -0.0895,  0.1348], grad_fn=<AddBackward0>)"
      ]
     },
     "execution_count": 8,
     "metadata": {},
     "output_type": "execute_result"
    }
   ],
   "source": [
    "a,b = flow.forward(u)\n",
    "b"
   ]
  },
  {
   "cell_type": "code",
   "execution_count": 17,
   "id": "1a117fb5-c92d-4de3-a898-3576e2f4a1c5",
   "metadata": {},
   "outputs": [
    {
     "data": {
      "text/plain": [
       "tensor([-0.4769,  0.1767,  0.3573], grad_fn=<MeanBackward1>)"
      ]
     },
     "execution_count": 17,
     "metadata": {},
     "output_type": "execute_result"
    }
   ],
   "source": [
    "a.mean(axis=0)"
   ]
  },
  {
   "cell_type": "code",
   "execution_count": 56,
   "id": "fcddacd5-eeaf-45dc-9fd3-2f1030df81ce",
   "metadata": {},
   "outputs": [
    {
     "data": {
      "text/plain": [
       "tensor([ 0.0931,  1.7946,  3.4663, -0.8488,  2.7547,  2.1338,  0.3405,  1.9714,\n",
       "         0.3946,  1.4731], grad_fn=<AddBackward0>)"
      ]
     },
     "execution_count": 56,
     "metadata": {},
     "output_type": "execute_result"
    }
   ],
   "source": [
    "y = [1.2, 3.1, 1.0]\n",
    "n=a.size(0)\n",
    "Y = torch.tensor(n*y).reshape(n,3)\n",
    "# Y\n",
    "sum([Y[:,i] + a[:,i] for i in range(3)])\n",
    "Y[:,2] + a[:,2]"
   ]
  },
  {
   "cell_type": "code",
   "execution_count": 78,
   "id": "5996e65c-934e-48a4-8b97-7919a37f6953",
   "metadata": {},
   "outputs": [
    {
     "data": {
      "text/plain": [
       "tensor(2.6500e-07, grad_fn=<ExpBackward0>)"
      ]
     },
     "execution_count": 78,
     "metadata": {},
     "output_type": "execute_result"
    }
   ],
   "source": [
    "loss(flow,torch.tensor(y)).exp()"
   ]
  },
  {
   "cell_type": "code",
   "execution_count": null,
   "id": "026e06d6-382b-4e45-8f3c-ed7e31f082b5",
   "metadata": {},
   "outputs": [],
   "source": []
  },
  {
   "cell_type": "code",
   "execution_count": null,
   "id": "6f85a4e4-bfc7-49b2-8229-70f748d1f4c6",
   "metadata": {},
   "outputs": [],
   "source": [
    "def batch(size, data):\n",
    "    '''\n",
    "    Select a batch of the data.\n",
    "    '''\n",
    "    N = data.shape[0]\n",
    "    rand = np.random.permutation(N)\n",
    "    selected_lines = rand[-size:]\n",
    "    return data[selected_lines,:]\n",
    "\n",
    "def opt_flow(flow, data, lr=1e-4, nIter=500, verbose=True):\n",
    "    '''\n",
    "    Optimize the flow to sample from the distribution\n",
    "    that originated the data.\n",
    "    Returns the flow with optimized parameters.\n",
    "    '''\n",
    "    optimizer = torch.optim.Adam(\n",
    "        [p for p in flow.parameters() if p.requires_grad == True], \n",
    "        lr=lr\n",
    "    )\n",
    "    for t in range(nIter+1):    \n",
    "        cur_batch = batch(100, data).astype(np.float32)\n",
    "        \n",
    "        loss = -flow.log_prob(torch.from_numpy(cur_batch)).mean()\n",
    "\n",
    "        optimizer.zero_grad()\n",
    "        loss.backward(retain_graph=True)\n",
    "        optimizer.step()\n",
    "\n",
    "        if t % 50 == 0 and verbose:\n",
    "            print('iter %s:' % t, 'loss = %.3f' % loss)\n",
    "    return flow"
   ]
  }
 ],
 "metadata": {
  "kernelspec": {
   "display_name": "Python 3 (ipykernel)",
   "language": "python",
   "name": "python3"
  },
  "language_info": {
   "codemirror_mode": {
    "name": "ipython",
    "version": 3
   },
   "file_extension": ".py",
   "mimetype": "text/x-python",
   "name": "python",
   "nbconvert_exporter": "python",
   "pygments_lexer": "ipython3",
   "version": "3.10.12"
  }
 },
 "nbformat": 4,
 "nbformat_minor": 5
}
