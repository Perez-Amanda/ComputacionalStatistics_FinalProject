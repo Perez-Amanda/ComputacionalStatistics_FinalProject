{
 "cells": [
  {
   "cell_type": "markdown",
   "id": "eecf4357-b684-4f60-8001-9885067f75dc",
   "metadata": {},
   "source": [
    "# VSMC with Normalizing Flows\n",
    "\n",
    "### To do:\n",
    "- [ ] Think about how to take into consideration `x_prev`\n",
    "- [ ] Implement it!"
   ]
  },
  {
   "cell_type": "code",
   "execution_count": 7,
   "id": "5e323981-52d3-4599-8589-cab8d2769852",
   "metadata": {},
   "outputs": [],
   "source": [
    "# Import normalizing flows module\n",
    "import sys\n",
    "sys.path.append(\"./src\")\n",
    "from flows import *"
   ]
  },
  {
   "cell_type": "code",
   "execution_count": 8,
   "id": "c94534f0-3f38-4202-9eb0-9a5996eec067",
   "metadata": {},
   "outputs": [],
   "source": [
    "# Import other libraries\n",
    "import numpy as np\n",
    "import matplotlib.pyplot as plt\n",
    "import torch\n",
    "from torch import nn\n",
    "from torch import distributions\n",
    "from torch.nn.parameter import Parameter"
   ]
  },
  {
   "cell_type": "code",
   "execution_count": 9,
   "id": "9b16e5c5-2d6b-4363-b491-9356c32afe64",
   "metadata": {},
   "outputs": [],
   "source": [
    "normal = distributions.Normal(0, 1)\n",
    "flow = RealNVP(dim=2, n_layers=5, base_dist=normal)"
   ]
  },
  {
   "cell_type": "code",
   "execution_count": 6,
   "id": "52b09292-e6a0-4a46-9a18-d27bcf36b082",
   "metadata": {},
   "outputs": [
    {
     "data": {
      "text/plain": [
       "tensor([[-1.1349, -1.1190]], grad_fn=<AddBackward0>)"
      ]
     },
     "execution_count": 6,
     "metadata": {},
     "output_type": "execute_result"
    }
   ],
   "source": [
    "# Not trained yet\n",
    "flow.log_prob(torch.tensor([[0.0]]))"
   ]
  },
  {
   "cell_type": "code",
   "execution_count": null,
   "id": "2333adde-0a3f-4e01-93c1-da9c068452e5",
   "metadata": {},
   "outputs": [],
   "source": [
    "def proposal_logpdf(x_t, x_prev, flow):\n",
    "    flow.log_prob(x_t)\n",
    "    # finish this\n",
    "\n",
    "def vsmc_nf(y_seq, lambda_, N, T):\n",
    "    latent_dim = y_seq[0].size(0)\n",
    "    log_w = torch.zeros(T, N)\n",
    "    x_particles = torch.zeros(T, N, latent_dim)\n",
    "    ancestors = torch.zeros(T, N, dtype=torch.long)\n",
    "\n",
    "    eps = torch.randn(N, latent_dim)\n",
    "    x_t = proposal(None, eps, lambda_)\n",
    "    x_particles[0] = x_t\n",
    "    log_w[0] = (\n",
    "        prior(x_t, None) + likelihood(y_seq[0], x_t) - proposal_logpdf(x_t, None, flow)\n",
    "    ).squeeze()\n",
    "\n",
    "    for t in range(1, T):\n",
    "        w_prev = torch.softmax(log_w[t - 1], dim=0)\n",
    "        # print(w_prev)\n",
    "        a_t = torch.multinomial(w_prev, N, replacement=True)\n",
    "        ancestors[t] = a_t\n",
    "\n",
    "        x_prev = x_particles[t - 1, a_t]\n",
    "        eps = torch.randn(N, latent_dim)\n",
    "        x_t = proposal(x_prev, eps, lambda_)\n",
    "        x_particles[t] = x_t\n",
    "\n",
    "        log_w[t] = (\n",
    "            prior(x_t, x_prev) + likelihood(y_seq[t], x_t) - proposal_logpdf(x_t, x_prev, flow)\n",
    "        ).squeeze()\n",
    "\n",
    "    # Sample final trajectory\n",
    "    w_T = torch.softmax(log_w[-1], dim=0)\n",
    "    b_T = torch.multinomial(w_T, 1).item()\n",
    "    \n",
    "    # Trace back trajectory\n",
    "    x_estimates = torch.zeros_like(x_particles[:, 0])\n",
    "    # i = b_T\n",
    "    for t in reversed(range(T)):\n",
    "        x_estimates[t] = x_particles[t, b_T]\n",
    "        if t > 0:\n",
    "            i = ancestors[t, b_T]\n",
    "    \n",
    "    return log_w, x_particles, ancestors, x_estimates\n",
    "    # return log_w, x_particles\n",
    "\n"
   ]
  }
 ],
 "metadata": {
  "kernelspec": {
   "display_name": "Python 3 (ipykernel)",
   "language": "python",
   "name": "python3"
  },
  "language_info": {
   "codemirror_mode": {
    "name": "ipython",
    "version": 3
   },
   "file_extension": ".py",
   "mimetype": "text/x-python",
   "name": "python",
   "nbconvert_exporter": "python",
   "pygments_lexer": "ipython3",
   "version": "3.10.12"
  }
 },
 "nbformat": 4,
 "nbformat_minor": 5
}
